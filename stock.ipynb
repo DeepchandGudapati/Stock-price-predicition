{
  "nbformat": 4,
  "nbformat_minor": 0,
  "metadata": {
    "colab": {
      "name": "Untitled13.ipynb",
      "provenance": [],
      "collapsed_sections": []
    },
    "kernelspec": {
      "name": "python3",
      "display_name": "Python 3"
    }
  },
  "cells": [
    {
      "cell_type": "code",
      "metadata": {
        "id": "HUQXBYX9DeBD",
        "colab_type": "code",
        "colab": {
          "base_uri": "https://localhost:8080/",
          "height": 34
        },
        "outputId": "760e752c-99d3-445e-bc68-ecf77f334758"
      },
      "source": [
        "import math\n",
        "import pandas_datareader as web \n",
        "import numpy as np\n",
        "import pandas as pd\n",
        "from sklearn.preprocessing import MinMaxScaler\n",
        "from keras.models import Sequential\n",
        "from keras.layers import Dense, LSTM\n",
        "import matplotlib.pyplot as plt\n",
        "plt.style.use('fivethirtyeight')"
      ],
      "execution_count": 2,
      "outputs": [
        {
          "output_type": "stream",
          "text": [
            "Using TensorFlow backend.\n"
          ],
          "name": "stderr"
        }
      ]
    },
    {
      "cell_type": "code",
      "metadata": {
        "id": "gUDvihrzEam0",
        "colab_type": "code",
        "colab": {
          "base_uri": "https://localhost:8080/",
          "height": 431
        },
        "outputId": "3f77a4c6-5a81-4b29-b3dc-2f29afaa9fde"
      },
      "source": [
        "#Get the data from yahoo \n",
        "df=web.DataReader('TATAMOTORS.BO',data_source='yahoo',start='2015-01-01',end='2020-06-30')\n",
        "df"
      ],
      "execution_count": 36,
      "outputs": [
        {
          "output_type": "execute_result",
          "data": {
            "text/html": [
              "<div>\n",
              "<style scoped>\n",
              "    .dataframe tbody tr th:only-of-type {\n",
              "        vertical-align: middle;\n",
              "    }\n",
              "\n",
              "    .dataframe tbody tr th {\n",
              "        vertical-align: top;\n",
              "    }\n",
              "\n",
              "    .dataframe thead th {\n",
              "        text-align: right;\n",
              "    }\n",
              "</style>\n",
              "<table border=\"1\" class=\"dataframe\">\n",
              "  <thead>\n",
              "    <tr style=\"text-align: right;\">\n",
              "      <th></th>\n",
              "      <th>High</th>\n",
              "      <th>Low</th>\n",
              "      <th>Open</th>\n",
              "      <th>Close</th>\n",
              "      <th>Volume</th>\n",
              "      <th>Adj Close</th>\n",
              "    </tr>\n",
              "    <tr>\n",
              "      <th>Date</th>\n",
              "      <th></th>\n",
              "      <th></th>\n",
              "      <th></th>\n",
              "      <th></th>\n",
              "      <th></th>\n",
              "      <th></th>\n",
              "    </tr>\n",
              "  </thead>\n",
              "  <tbody>\n",
              "    <tr>\n",
              "      <th>2015-01-01</th>\n",
              "      <td>494.459015</td>\n",
              "      <td>487.385010</td>\n",
              "      <td>487.385010</td>\n",
              "      <td>492.975006</td>\n",
              "      <td>108635.0</td>\n",
              "      <td>492.774963</td>\n",
              "    </tr>\n",
              "    <tr>\n",
              "      <th>2015-01-02</th>\n",
              "      <td>511.428009</td>\n",
              "      <td>491.243988</td>\n",
              "      <td>491.243988</td>\n",
              "      <td>506.282990</td>\n",
              "      <td>302694.0</td>\n",
              "      <td>506.077545</td>\n",
              "    </tr>\n",
              "    <tr>\n",
              "      <th>2015-01-05</th>\n",
              "      <td>520.431030</td>\n",
              "      <td>502.028015</td>\n",
              "      <td>505.985992</td>\n",
              "      <td>518.552002</td>\n",
              "      <td>589915.0</td>\n",
              "      <td>518.341553</td>\n",
              "    </tr>\n",
              "    <tr>\n",
              "      <th>2015-01-06</th>\n",
              "      <td>509.350006</td>\n",
              "      <td>493.717010</td>\n",
              "      <td>509.350006</td>\n",
              "      <td>495.795013</td>\n",
              "      <td>500767.0</td>\n",
              "      <td>495.593811</td>\n",
              "    </tr>\n",
              "    <tr>\n",
              "      <th>2015-01-07</th>\n",
              "      <td>495.398987</td>\n",
              "      <td>484.218994</td>\n",
              "      <td>491.095001</td>\n",
              "      <td>488.769989</td>\n",
              "      <td>567639.0</td>\n",
              "      <td>488.571655</td>\n",
              "    </tr>\n",
              "    <tr>\n",
              "      <th>...</th>\n",
              "      <td>...</td>\n",
              "      <td>...</td>\n",
              "      <td>...</td>\n",
              "      <td>...</td>\n",
              "      <td>...</td>\n",
              "      <td>...</td>\n",
              "    </tr>\n",
              "    <tr>\n",
              "      <th>2020-06-25</th>\n",
              "      <td>106.199997</td>\n",
              "      <td>101.599998</td>\n",
              "      <td>104.000000</td>\n",
              "      <td>103.849998</td>\n",
              "      <td>3238756.0</td>\n",
              "      <td>103.849998</td>\n",
              "    </tr>\n",
              "    <tr>\n",
              "      <th>2020-06-26</th>\n",
              "      <td>106.000000</td>\n",
              "      <td>100.449997</td>\n",
              "      <td>105.650002</td>\n",
              "      <td>101.550003</td>\n",
              "      <td>4535729.0</td>\n",
              "      <td>101.550003</td>\n",
              "    </tr>\n",
              "    <tr>\n",
              "      <th>2020-06-29</th>\n",
              "      <td>101.300003</td>\n",
              "      <td>98.050003</td>\n",
              "      <td>101.000000</td>\n",
              "      <td>99.500000</td>\n",
              "      <td>3522342.0</td>\n",
              "      <td>99.500000</td>\n",
              "    </tr>\n",
              "    <tr>\n",
              "      <th>2020-06-30</th>\n",
              "      <td>102.150002</td>\n",
              "      <td>97.349998</td>\n",
              "      <td>101.500000</td>\n",
              "      <td>98.250000</td>\n",
              "      <td>3423499.0</td>\n",
              "      <td>98.250000</td>\n",
              "    </tr>\n",
              "    <tr>\n",
              "      <th>2020-07-01</th>\n",
              "      <td>101.400002</td>\n",
              "      <td>98.199997</td>\n",
              "      <td>98.750000</td>\n",
              "      <td>100.699997</td>\n",
              "      <td>3065502.0</td>\n",
              "      <td>100.699997</td>\n",
              "    </tr>\n",
              "  </tbody>\n",
              "</table>\n",
              "<p>1351 rows × 6 columns</p>\n",
              "</div>"
            ],
            "text/plain": [
              "                  High         Low  ...     Volume   Adj Close\n",
              "Date                                ...                       \n",
              "2015-01-01  494.459015  487.385010  ...   108635.0  492.774963\n",
              "2015-01-02  511.428009  491.243988  ...   302694.0  506.077545\n",
              "2015-01-05  520.431030  502.028015  ...   589915.0  518.341553\n",
              "2015-01-06  509.350006  493.717010  ...   500767.0  495.593811\n",
              "2015-01-07  495.398987  484.218994  ...   567639.0  488.571655\n",
              "...                ...         ...  ...        ...         ...\n",
              "2020-06-25  106.199997  101.599998  ...  3238756.0  103.849998\n",
              "2020-06-26  106.000000  100.449997  ...  4535729.0  101.550003\n",
              "2020-06-29  101.300003   98.050003  ...  3522342.0   99.500000\n",
              "2020-06-30  102.150002   97.349998  ...  3423499.0   98.250000\n",
              "2020-07-01  101.400002   98.199997  ...  3065502.0  100.699997\n",
              "\n",
              "[1351 rows x 6 columns]"
            ]
          },
          "metadata": {
            "tags": []
          },
          "execution_count": 36
        }
      ]
    },
    {
      "cell_type": "code",
      "metadata": {
        "id": "msEzsOpHFL7t",
        "colab_type": "code",
        "colab": {
          "base_uri": "https://localhost:8080/",
          "height": 34
        },
        "outputId": "66d86b02-6240-443f-80e4-3977225d8a21"
      },
      "source": [
        "df.shape"
      ],
      "execution_count": 37,
      "outputs": [
        {
          "output_type": "execute_result",
          "data": {
            "text/plain": [
              "(1351, 6)"
            ]
          },
          "metadata": {
            "tags": []
          },
          "execution_count": 37
        }
      ]
    },
    {
      "cell_type": "code",
      "metadata": {
        "id": "CbqE_4DTFlzf",
        "colab_type": "code",
        "colab": {
          "base_uri": "https://localhost:8080/",
          "height": 558
        },
        "outputId": "8140ba3e-575c-465e-b189-c3342c9078c1"
      },
      "source": [
        "plt.figure(figsize=(16,8))\n",
        "plt.title('Close')\n",
        "plt.plot(df['Close'])\n",
        "plt.xlabel('Date',fontsize=18)\n",
        "plt.ylabel('close proce of tata motors',fontsize=18)\n",
        "plt.show()"
      ],
      "execution_count": 38,
      "outputs": [
        {
          "output_type": "display_data",
          "data": {
            "image/png": "[encoded data removed]",
            "text/plain": [
              "<Figure size 1152x576 with 1 Axes>"
            ]
          },
          "metadata": {
            "tags": []
          }
        }
      ]
    },
    {
      "cell_type": "code",
      "metadata": {
        "id": "QMWQ8HS6GOw9",
        "colab_type": "code",
        "colab": {
          "base_uri": "https://localhost:8080/",
          "height": 34
        },
        "outputId": "9ce23b4c-92f4-4e29-8fcd-cebe198f5692"
      },
      "source": [
        "#crete new data frame with only close colomn\n",
        "data=df.filter(['Close'])\n",
        "#convert data frame into numpy array \n",
        "dataset=data.values\n",
        "#get the number of rows to train the model on \n",
        "training_data_len=math.ceil(len(dataset)* .8)\n",
        "training_data_len"
      ],
      "execution_count": 39,
      "outputs": [
        {
          "output_type": "execute_result",
          "data": {
            "text/plain": [
              "1081"
            ]
          },
          "metadata": {
            "tags": []
          },
          "execution_count": 39
        }
      ]
    },
    {
      "cell_type": "code",
      "metadata": {
        "id": "87BWDB51HGAL",
        "colab_type": "code",
        "colab": {
          "base_uri": "https://localhost:8080/",
          "height": 134
        },
        "outputId": "e4daac27-b067-4a52-9a51-e6b640d97c78"
      },
      "source": [
        "#scale the data\n",
        "scaler =MinMaxScaler(feature_range=(0,1))\n",
        "scaled_data=scaler.fit_transform(dataset)\n",
        "scaled_data"
      ],
      "execution_count": 40,
      "outputs": [
        {
          "output_type": "execute_result",
          "data": {
            "text/plain": [
              "array([[0.80179948],\n",
              "       [0.82674911],\n",
              "       [0.84975089],\n",
              "       ...,\n",
              "       [0.0641177 ],\n",
              "       [0.06177422],\n",
              "       [0.06636744]])"
            ]
          },
          "metadata": {
            "tags": []
          },
          "execution_count": 40
        }
      ]
    },
    {
      "cell_type": "code",
      "metadata": {
        "id": "yAxhnt4XHjLe",
        "colab_type": "code",
        "colab": {
          "base_uri": "https://localhost:8080/",
          "height": 672
        },
        "outputId": "f86e8cbb-0feb-4d56-9a66-71fcd21fbf68"
      },
      "source": [
        "#create the training the data set\n",
        "#create the scaled training data set\n",
        "train_data=scaled_data[0:training_data_len , :]\n",
        "#slipt the data \n",
        "x_train=[]\n",
        "y_train=[]\n",
        "\n",
        "for i in range(60,len(train_data)):\n",
        "  x_train.append(train_data[i-60:i,0])\n",
        "  y_train.append(train_data[i, 0])\n",
        "  if i<= 61:\n",
        "    print(x_train)\n",
        "    print(y_train)\n",
        "    print()"
      ],
      "execution_count": 41,
      "outputs": [
        {
          "output_type": "stream",
          "text": [
            "[array([0.80179948, 0.82674911, 0.84975089, 0.80708639, 0.79391597,\n",
            "       0.82767529, 0.84557576, 0.84659749, 0.84131057, 0.84279356,\n",
            "       0.86523848, 0.85253309, 0.87692409, 0.91467294, 0.9003889 ,\n",
            "       0.92802885, 0.96809498, 1.        , 0.97041409, 0.98590168,\n",
            "       0.96262247, 0.97625587, 0.994342  , 0.97542157, 0.9711565 ,\n",
            "       0.91587832, 0.88406702, 0.92441053, 0.91495031, 0.92116524,\n",
            "       0.92682335, 0.94221917, 0.95919157, 0.94732037, 0.95121435,\n",
            "       0.94221917, 0.92570974, 0.92997676, 0.91671262, 0.94509314,\n",
            "       0.96113948, 0.94342467, 0.94203357, 0.93609796, 0.92422492,\n",
            "       0.91662073, 0.89983393, 0.92385555, 0.91087084, 0.91226194,\n",
            "       0.93776655, 0.91652701, 0.90391351, 0.89334152, 0.89946272,\n",
            "       0.86607277, 0.88146848, 0.85355299, 0.87135969, 0.87915131])]\n",
            "[0.8977004195527888]\n",
            "\n",
            "[array([0.80179948, 0.82674911, 0.84975089, 0.80708639, 0.79391597,\n",
            "       0.82767529, 0.84557576, 0.84659749, 0.84131057, 0.84279356,\n",
            "       0.86523848, 0.85253309, 0.87692409, 0.91467294, 0.9003889 ,\n",
            "       0.92802885, 0.96809498, 1.        , 0.97041409, 0.98590168,\n",
            "       0.96262247, 0.97625587, 0.994342  , 0.97542157, 0.9711565 ,\n",
            "       0.91587832, 0.88406702, 0.92441053, 0.91495031, 0.92116524,\n",
            "       0.92682335, 0.94221917, 0.95919157, 0.94732037, 0.95121435,\n",
            "       0.94221917, 0.92570974, 0.92997676, 0.91671262, 0.94509314,\n",
            "       0.96113948, 0.94342467, 0.94203357, 0.93609796, 0.92422492,\n",
            "       0.91662073, 0.89983393, 0.92385555, 0.91087084, 0.91226194,\n",
            "       0.93776655, 0.91652701, 0.90391351, 0.89334152, 0.89946272,\n",
            "       0.86607277, 0.88146848, 0.85355299, 0.87135969, 0.87915131]), array([0.82674911, 0.84975089, 0.80708639, 0.79391597, 0.82767529,\n",
            "       0.84557576, 0.84659749, 0.84131057, 0.84279356, 0.86523848,\n",
            "       0.85253309, 0.87692409, 0.91467294, 0.9003889 , 0.92802885,\n",
            "       0.96809498, 1.        , 0.97041409, 0.98590168, 0.96262247,\n",
            "       0.97625587, 0.994342  , 0.97542157, 0.9711565 , 0.91587832,\n",
            "       0.88406702, 0.92441053, 0.91495031, 0.92116524, 0.92682335,\n",
            "       0.94221917, 0.95919157, 0.94732037, 0.95121435, 0.94221917,\n",
            "       0.92570974, 0.92997676, 0.91671262, 0.94509314, 0.96113948,\n",
            "       0.94342467, 0.94203357, 0.93609796, 0.92422492, 0.91662073,\n",
            "       0.89983393, 0.92385555, 0.91087084, 0.91226194, 0.93776655,\n",
            "       0.91652701, 0.90391351, 0.89334152, 0.89946272, 0.86607277,\n",
            "       0.88146848, 0.85355299, 0.87135969, 0.87915131, 0.89770042])]\n",
            "[0.8977004195527888, 0.9247817294788635]\n",
            "\n"
          ],
          "name": "stdout"
        }
      ]
    },
    {
      "cell_type": "code",
      "metadata": {
        "id": "IdCgL29GJHTJ",
        "colab_type": "code",
        "colab": {}
      },
      "source": [
        "#convert x_train and y_train in to numpy arrays \n",
        "x_train,y_train=np.array(x_train),np.array(y_train)"
      ],
      "execution_count": 42,
      "outputs": []
    },
    {
      "cell_type": "code",
      "metadata": {
        "id": "f7tQ8IxUIrpp",
        "colab_type": "code",
        "colab": {
          "base_uri": "https://localhost:8080/",
          "height": 34
        },
        "outputId": "797f243e-ec70-49aa-d6b0-bc66ea2222c6"
      },
      "source": [
        "#reshape because of LSTM \n",
        "x_train=np.reshape(x_train,(x_train.shape[0],x_train.shape[1],1))\n",
        "x_train.shape"
      ],
      "execution_count": 43,
      "outputs": [
        {
          "output_type": "execute_result",
          "data": {
            "text/plain": [
              "(1021, 60, 1)"
            ]
          },
          "metadata": {
            "tags": []
          },
          "execution_count": 43
        }
      ]
    },
    {
      "cell_type": "code",
      "metadata": {
        "id": "VHsDxuHMJ4KF",
        "colab_type": "code",
        "colab": {}
      },
      "source": [
        "#Build the LSTM model\n",
        "model=Sequential()\n",
        "model.add(LSTM(100,return_sequences=True,input_shape= (x_train.shape[1], 1)))\n",
        "model.add(LSTM(100,return_sequences=True,input_shape= (x_train.shape[1],1)))\n",
        "model.add(LSTM(100,return_sequences=False))\n",
        "model.add(Dense(50))\n",
        "model.add(Dense(25))\n",
        "model.add(Dense(1))"
      ],
      "execution_count": 191,
      "outputs": []
    },
    {
      "cell_type": "code",
      "metadata": {
        "id": "mnfHKeEBKznC",
        "colab_type": "code",
        "colab": {}
      },
      "source": [
        "#compile the model \n",
        "model.compile(optimizer='adam',loss='mean_squared_error')"
      ],
      "execution_count": 192,
      "outputs": []
    },
    {
      "cell_type": "code",
      "metadata": {
        "id": "DIS-HOMULBEe",
        "colab_type": "code",
        "colab": {
          "base_uri": "https://localhost:8080/",
          "height": 67
        },
        "outputId": "8cbdb546-d019-4a7e-a74b-bbd0a3b857b5"
      },
      "source": [
        "#train the model\n",
        "model.fit(x_train, y_train, batch_size=1, epochs=1)"
      ],
      "execution_count": 193,
      "outputs": [
        {
          "output_type": "stream",
          "text": [
            "Epoch 1/1\n",
            "1021/1021 [==============================] - 79s 77ms/step - loss: 0.0053\n"
          ],
          "name": "stdout"
        },
        {
          "output_type": "execute_result",
          "data": {
            "text/plain": [
              "<keras.callbacks.callbacks.History at 0x7fa6adfc32e8>"
            ]
          },
          "metadata": {
            "tags": []
          },
          "execution_count": 193
        }
      ]
    },
    {
      "cell_type": "code",
      "metadata": {
        "id": "OQbEcttuLiTd",
        "colab_type": "code",
        "colab": {}
      },
      "source": [
        "#create the testing data set \n",
        "#create a new array \n",
        "test_data=scaled_data[training_data_len-60: , :]\n",
        "#create the data sets x_test and y_test \n",
        "x_test=[]\n",
        "y_test=dataset[training_data_len:, :]\n",
        "for i in range(60, len(test_data)):\n",
        "  x_test.append(test_data[i-60:i,0])\n"
      ],
      "execution_count": 194,
      "outputs": []
    },
    {
      "cell_type": "code",
      "metadata": {
        "id": "cRB1Y8rfMW4Q",
        "colab_type": "code",
        "colab": {}
      },
      "source": [
        "#convert the data to numpy array \n",
        "x_test=np.array(x_test)"
      ],
      "execution_count": 195,
      "outputs": []
    },
    {
      "cell_type": "code",
      "metadata": {
        "id": "guNLw3AhMf_a",
        "colab_type": "code",
        "colab": {}
      },
      "source": [
        "#reshape the data \n",
        "x_test=np.reshape(x_test,(x_test.shape[0], x_test.shape[1], 1))"
      ],
      "execution_count": 196,
      "outputs": []
    },
    {
      "cell_type": "code",
      "metadata": {
        "id": "lE7441JlM28d",
        "colab_type": "code",
        "colab": {}
      },
      "source": [
        "#get the model predicted price values \n",
        "predictions=model.predict(x_test)\n",
        "predictions= scaler.inverse_transform(predictions)\n"
      ],
      "execution_count": 197,
      "outputs": []
    },
    {
      "cell_type": "code",
      "metadata": {
        "id": "-q-4wqWENS2U",
        "colab_type": "code",
        "colab": {
          "base_uri": "https://localhost:8080/",
          "height": 34
        },
        "outputId": "11ed8a90-3a02-41b4-b9f6-e6c55b056909"
      },
      "source": [
        "#model evaluation\n",
        "rmse =np.sqrt( np.mean(predictions-y_test)**2)\n",
        "rmse"
      ],
      "execution_count": 198,
      "outputs": [
        {
          "output_type": "execute_result",
          "data": {
            "text/plain": [
              "1.6221412376121238"
            ]
          },
          "metadata": {
            "tags": []
          },
          "execution_count": 198
        }
      ]
    },
    {
      "cell_type": "code",
      "metadata": {
        "id": "slKSyuh9NwV9",
        "colab_type": "code",
        "colab": {
          "base_uri": "https://localhost:8080/",
          "height": 659
        },
        "outputId": "93d6ba29-0b18-424b-daad-4ed8bb0f8faf"
      },
      "source": [
        "#plot the data \n",
        "train=data[:training_data_len]\n",
        "valid=data[training_data_len:]\n",
        "valid['predictions']=predictions\n",
        "#visualize the model\n",
        "plt.figure(figsize=(16,8))\n",
        "plt.title('model')\n",
        "plt.xlabel('data',fontsize=18)\n",
        "plt.ylabel('close price',fontsize=18)\n",
        "plt.plot(train['Close'])\n",
        "plt.plot(valid[['Close','predictions']])\n",
        "plt.legend(['train','val','predicitons'],loc='lower right')\n",
        "plt.show()\n",
        "\n"
      ],
      "execution_count": 199,
      "outputs": [
        {
          "output_type": "stream",
          "text": [
            "/usr/local/lib/python3.6/dist-packages/ipykernel_launcher.py:4: SettingWithCopyWarning: \n",
            "A value is trying to be set on a copy of a slice from a DataFrame.\n",
            "Try using .loc[row_indexer,col_indexer] = value instead\n",
            "\n",
            "See the caveats in the documentation: https://pandas.pydata.org/pandas-docs/stable/user_guide/indexing.html#returning-a-view-versus-a-copy\n",
            "  after removing the cwd from sys.path.\n"
          ],
          "name": "stderr"
        },
        {
          "output_type": "display_data",
          "data": {
            "image/png": "[encoded data removed]",
            "text/plain": [
              "<Figure size 1152x576 with 1 Axes>"
            ]
          },
          "metadata": {
            "tags": []
          }
        }
      ]
    },
    {
      "cell_type": "code",
      "metadata": {
        "id": "m6_qhWV_QRNb",
        "colab_type": "code",
        "colab": {
          "base_uri": "https://localhost:8080/",
          "height": 431
        },
        "outputId": "3e10b923-37a6-4e16-e402-6fc8c05a2caa"
      },
      "source": [
        "#show the actual and predicted \n",
        "valid"
      ],
      "execution_count": 200,
      "outputs": [
        {
          "output_type": "execute_result",
          "data": {
            "text/html": [
              "<div>\n",
              "<style scoped>\n",
              "    .dataframe tbody tr th:only-of-type {\n",
              "        vertical-align: middle;\n",
              "    }\n",
              "\n",
              "    .dataframe tbody tr th {\n",
              "        vertical-align: top;\n",
              "    }\n",
              "\n",
              "    .dataframe thead th {\n",
              "        text-align: right;\n",
              "    }\n",
              "</style>\n",
              "<table border=\"1\" class=\"dataframe\">\n",
              "  <thead>\n",
              "    <tr style=\"text-align: right;\">\n",
              "      <th></th>\n",
              "      <th>Close</th>\n",
              "      <th>predictions</th>\n",
              "    </tr>\n",
              "    <tr>\n",
              "      <th>Date</th>\n",
              "      <th></th>\n",
              "      <th></th>\n",
              "    </tr>\n",
              "  </thead>\n",
              "  <tbody>\n",
              "    <tr>\n",
              "      <th>2019-05-24</th>\n",
              "      <td>182.149994</td>\n",
              "      <td>181.193527</td>\n",
              "    </tr>\n",
              "    <tr>\n",
              "      <th>2019-05-27</th>\n",
              "      <td>181.350006</td>\n",
              "      <td>181.078644</td>\n",
              "    </tr>\n",
              "    <tr>\n",
              "      <th>2019-05-28</th>\n",
              "      <td>180.750000</td>\n",
              "      <td>181.188568</td>\n",
              "    </tr>\n",
              "    <tr>\n",
              "      <th>2019-05-29</th>\n",
              "      <td>176.300003</td>\n",
              "      <td>181.423218</td>\n",
              "    </tr>\n",
              "    <tr>\n",
              "      <th>2019-05-30</th>\n",
              "      <td>175.050003</td>\n",
              "      <td>181.503052</td>\n",
              "    </tr>\n",
              "    <tr>\n",
              "      <th>...</th>\n",
              "      <td>...</td>\n",
              "      <td>...</td>\n",
              "    </tr>\n",
              "    <tr>\n",
              "      <th>2020-06-25</th>\n",
              "      <td>103.849998</td>\n",
              "      <td>99.227066</td>\n",
              "    </tr>\n",
              "    <tr>\n",
              "      <th>2020-06-26</th>\n",
              "      <td>101.550003</td>\n",
              "      <td>99.529099</td>\n",
              "    </tr>\n",
              "    <tr>\n",
              "      <th>2020-06-29</th>\n",
              "      <td>99.500000</td>\n",
              "      <td>99.929482</td>\n",
              "    </tr>\n",
              "    <tr>\n",
              "      <th>2020-06-30</th>\n",
              "      <td>98.250000</td>\n",
              "      <td>100.206947</td>\n",
              "    </tr>\n",
              "    <tr>\n",
              "      <th>2020-07-01</th>\n",
              "      <td>100.699997</td>\n",
              "      <td>100.240921</td>\n",
              "    </tr>\n",
              "  </tbody>\n",
              "</table>\n",
              "<p>270 rows × 2 columns</p>\n",
              "</div>"
            ],
            "text/plain": [
              "                 Close  predictions\n",
              "Date                               \n",
              "2019-05-24  182.149994   181.193527\n",
              "2019-05-27  181.350006   181.078644\n",
              "2019-05-28  180.750000   181.188568\n",
              "2019-05-29  176.300003   181.423218\n",
              "2019-05-30  175.050003   181.503052\n",
              "...                ...          ...\n",
              "2020-06-25  103.849998    99.227066\n",
              "2020-06-26  101.550003    99.529099\n",
              "2020-06-29   99.500000    99.929482\n",
              "2020-06-30   98.250000   100.206947\n",
              "2020-07-01  100.699997   100.240921\n",
              "\n",
              "[270 rows x 2 columns]"
            ]
          },
          "metadata": {
            "tags": []
          },
          "execution_count": 200
        }
      ]
    },
    {
      "cell_type": "code",
      "metadata": {
        "id": "rXZQ5GXHQqI4",
        "colab_type": "code",
        "colab": {
          "base_uri": "https://localhost:8080/",
          "height": 34
        },
        "outputId": "093a9757-1f0d-47cf-c13b-d08344a45f9f"
      },
      "source": [
        "#predict future the data \n",
        "tata_future=web.DataReader('TATAMOTORS.BO',data_source='yahoo',start='2015-01-01',end='2020-06-30')\n",
        "#new data frame\n",
        "new_df=tata_future.filter(['Close'])\n",
        "#get last 60 days data \n",
        "last_data=new_df[-60:].values\n",
        "#scale the data to be values between 0 and 1 \n",
        "last_data_scaled=scaler.transform(last_data)\n",
        "#create empty list \n",
        "X_test=[]\n",
        "X_test.append(last_data_scaled)\n",
        "#convert the x test data set into numpy array \n",
        "X_test=np.array(X_test)\n",
        "#reshape the data \n",
        "X_test=np.reshape(X_test,(X_test.shape[0],X_test.shape[1], 1))\n",
        "#get the predicted the scale price \n",
        "pred_price=model.predict(X_test)\n",
        "#undo the scaling \n",
        "pred_price=scaler.inverse_transform(pred_price)\n",
        "print(pred_price)"
      ],
      "execution_count": 201,
      "outputs": [
        {
          "output_type": "stream",
          "text": [
            "[[100.14357]]\n"
          ],
          "name": "stdout"
        }
      ]
    },
    {
      "cell_type": "code",
      "metadata": {
        "id": "l4VCFh_uTOLG",
        "colab_type": "code",
        "colab": {
          "base_uri": "https://localhost:8080/",
          "height": 106
        },
        "outputId": "b2fb2fcc-9734-4add-8a1c-adfebb86473c"
      },
      "source": [
        "tata_future2=web.DataReader('TATAMOTORS.BO',data_source='yahoo',start='2020-07-02',end='2020-07-02')\n",
        "tata_future2"
      ],
      "execution_count": 135,
      "outputs": [
        {
          "output_type": "execute_result",
          "data": {
            "text/html": [
              "<div>\n",
              "<style scoped>\n",
              "    .dataframe tbody tr th:only-of-type {\n",
              "        vertical-align: middle;\n",
              "    }\n",
              "\n",
              "    .dataframe tbody tr th {\n",
              "        vertical-align: top;\n",
              "    }\n",
              "\n",
              "    .dataframe thead th {\n",
              "        text-align: right;\n",
              "    }\n",
              "</style>\n",
              "<table border=\"1\" class=\"dataframe\">\n",
              "  <thead>\n",
              "    <tr style=\"text-align: right;\">\n",
              "      <th></th>\n",
              "      <th>High</th>\n",
              "      <th>Low</th>\n",
              "      <th>Open</th>\n",
              "      <th>Close</th>\n",
              "      <th>Volume</th>\n",
              "      <th>Adj Close</th>\n",
              "    </tr>\n",
              "    <tr>\n",
              "      <th>Date</th>\n",
              "      <th></th>\n",
              "      <th></th>\n",
              "      <th></th>\n",
              "      <th></th>\n",
              "      <th></th>\n",
              "      <th></th>\n",
              "    </tr>\n",
              "  </thead>\n",
              "  <tbody>\n",
              "    <tr>\n",
              "      <th>2020-07-02</th>\n",
              "      <td>102.949997</td>\n",
              "      <td>100.449997</td>\n",
              "      <td>101</td>\n",
              "      <td>101.550003</td>\n",
              "      <td>1870677</td>\n",
              "      <td>101.550003</td>\n",
              "    </tr>\n",
              "  </tbody>\n",
              "</table>\n",
              "</div>"
            ],
            "text/plain": [
              "                  High         Low  Open       Close   Volume   Adj Close\n",
              "Date                                                                     \n",
              "2020-07-02  102.949997  100.449997   101  101.550003  1870677  101.550003"
            ]
          },
          "metadata": {
            "tags": []
          },
          "execution_count": 135
        }
      ]
    }
  ]
}